{
  "cells": [
    {
      "cell_type": "markdown",
      "metadata": {
        "id": "EFPjhhB5VXd9"
      },
      "source": [
        "# **Workshop \"Data Ingestion with dlt\": Homework**\n"
      ]
    },
    {
      "cell_type": "markdown",
      "metadata": {
        "id": "a0V54cILVjfy"
      },
      "source": [
        "---\n",
        "\n",
        "## **Dataset & API**\n",
        "\n",
        "We’ll use **NYC Taxi data** via the same custom API from the workshop:\n",
        "\n",
        "🔹 **Base API URL:**  \n",
        "```\n",
        "https://us-central1-dlthub-analytics.cloudfunctions.net/data_engineering_zoomcamp_api\n",
        "```\n",
        "🔹 **Data format:** Paginated JSON (1,000 records per page).  \n",
        "🔹 **API Pagination:** Stop when an empty page is returned.  "
      ]
    },
    {
      "cell_type": "markdown",
      "metadata": {
        "id": "pNq2oqruVtiQ"
      },
      "source": [
        "## **Question 1: dlt Version**\n",
        "\n",
        "1. **Install dlt**:"
      ]
    },
    {
      "cell_type": "code",
      "execution_count": 8,
      "metadata": {
        "colab": {
          "base_uri": "https://localhost:8080/"
        },
        "id": "9yTfzUkZVwYi",
        "outputId": "aebae6e6-5d94-4ab0-dd34-8c6755d8373a"
      },
      "outputs": [
        {
          "name": "stdout",
          "output_type": "stream",
          "text": [
            "Requirement already satisfied: dlt[duckdb] in c:\\users\\yolandachatzina\\anaconda3\\lib\\site-packages (1.6.1)\n",
            "Requirement already satisfied: PyYAML>=5.4.1 in c:\\users\\yolandachatzina\\anaconda3\\lib\\site-packages (from dlt[duckdb]) (6.0.1)\n",
            "Requirement already satisfied: click>=7.1 in c:\\users\\yolandachatzina\\anaconda3\\lib\\site-packages (from dlt[duckdb]) (8.1.7)\n",
            "Requirement already satisfied: duckdb>=0.9 in c:\\users\\yolandachatzina\\anaconda3\\lib\\site-packages (from dlt[duckdb]) (1.2.0)\n",
            "Requirement already satisfied: fsspec>=2022.4.0 in c:\\users\\yolandachatzina\\anaconda3\\lib\\site-packages (from dlt[duckdb]) (2024.6.1)\n",
            "Requirement already satisfied: gitpython>=3.1.29 in c:\\users\\yolandachatzina\\anaconda3\\lib\\site-packages (from dlt[duckdb]) (3.1.43)\n",
            "Requirement already satisfied: giturlparse>=0.10.0 in c:\\users\\yolandachatzina\\anaconda3\\lib\\site-packages (from dlt[duckdb]) (0.12.0)\n",
            "Requirement already satisfied: hexbytes>=0.2.2 in c:\\users\\yolandachatzina\\anaconda3\\lib\\site-packages (from dlt[duckdb]) (1.3.0)\n",
            "Requirement already satisfied: humanize>=4.4.0 in c:\\users\\yolandachatzina\\anaconda3\\lib\\site-packages (from dlt[duckdb]) (4.11.0)\n",
            "Requirement already satisfied: jsonpath-ng>=1.5.3 in c:\\users\\yolandachatzina\\anaconda3\\lib\\site-packages (from dlt[duckdb]) (1.7.0)\n",
            "Requirement already satisfied: makefun>=1.15.0 in c:\\users\\yolandachatzina\\anaconda3\\lib\\site-packages (from dlt[duckdb]) (1.15.6)\n",
            "Requirement already satisfied: orjson!=3.10.1,!=3.9.11,!=3.9.12,!=3.9.13,!=3.9.14,<4,>=3.6.7 in c:\\users\\yolandachatzina\\anaconda3\\lib\\site-packages (from dlt[duckdb]) (3.10.15)\n",
            "Requirement already satisfied: packaging>=21.1 in c:\\users\\yolandachatzina\\anaconda3\\lib\\site-packages (from dlt[duckdb]) (24.1)\n",
            "Requirement already satisfied: pathvalidate>=2.5.2 in c:\\users\\yolandachatzina\\anaconda3\\lib\\site-packages (from dlt[duckdb]) (3.2.3)\n",
            "Requirement already satisfied: pendulum>=2.1.2 in c:\\users\\yolandachatzina\\anaconda3\\lib\\site-packages (from dlt[duckdb]) (3.0.0)\n",
            "Requirement already satisfied: pluggy>=1.3.0 in c:\\users\\yolandachatzina\\anaconda3\\lib\\site-packages (from dlt[duckdb]) (1.5.0)\n",
            "Requirement already satisfied: pytz>=2022.6 in c:\\users\\yolandachatzina\\anaconda3\\lib\\site-packages (from dlt[duckdb]) (2024.1)\n",
            "Requirement already satisfied: pywin32>=306 in c:\\users\\yolandachatzina\\anaconda3\\lib\\site-packages (from dlt[duckdb]) (308)\n",
            "Requirement already satisfied: requests>=2.26.0 in c:\\users\\yolandachatzina\\anaconda3\\lib\\site-packages (from dlt[duckdb]) (2.32.3)\n",
            "Requirement already satisfied: requirements-parser>=0.5.0 in c:\\users\\yolandachatzina\\anaconda3\\lib\\site-packages (from dlt[duckdb]) (0.11.0)\n",
            "Requirement already satisfied: rich-argparse<2.0.0,>=1.6.0 in c:\\users\\yolandachatzina\\anaconda3\\lib\\site-packages (from dlt[duckdb]) (1.7.0)\n",
            "Requirement already satisfied: semver>=3.0.0 in c:\\users\\yolandachatzina\\anaconda3\\lib\\site-packages (from dlt[duckdb]) (3.0.2)\n",
            "Requirement already satisfied: setuptools>=65.6.0 in c:\\users\\yolandachatzina\\anaconda3\\lib\\site-packages (from dlt[duckdb]) (75.1.0)\n",
            "Requirement already satisfied: simplejson>=3.17.5 in c:\\users\\yolandachatzina\\anaconda3\\lib\\site-packages (from dlt[duckdb]) (3.19.3)\n",
            "Requirement already satisfied: tenacity>=8.0.2 in c:\\users\\yolandachatzina\\anaconda3\\lib\\site-packages (from dlt[duckdb]) (8.2.3)\n",
            "Requirement already satisfied: tomlkit>=0.11.3 in c:\\users\\yolandachatzina\\anaconda3\\lib\\site-packages (from dlt[duckdb]) (0.13.2)\n",
            "Requirement already satisfied: typing-extensions>=4.8.0 in c:\\users\\yolandachatzina\\anaconda3\\lib\\site-packages (from dlt[duckdb]) (4.11.0)\n",
            "Requirement already satisfied: tzdata>=2022.1 in c:\\users\\yolandachatzina\\anaconda3\\lib\\site-packages (from dlt[duckdb]) (2023.3)\n",
            "Requirement already satisfied: win-precise-time>=1.4.2 in c:\\users\\yolandachatzina\\anaconda3\\lib\\site-packages (from dlt[duckdb]) (1.4.2)\n",
            "Requirement already satisfied: colorama in c:\\users\\yolandachatzina\\anaconda3\\lib\\site-packages (from click>=7.1->dlt[duckdb]) (0.4.6)\n",
            "Requirement already satisfied: gitdb<5,>=4.0.1 in c:\\users\\yolandachatzina\\anaconda3\\lib\\site-packages (from gitpython>=3.1.29->dlt[duckdb]) (4.0.7)\n",
            "Requirement already satisfied: ply in c:\\users\\yolandachatzina\\anaconda3\\lib\\site-packages (from jsonpath-ng>=1.5.3->dlt[duckdb]) (3.11)\n",
            "Requirement already satisfied: python-dateutil>=2.6 in c:\\users\\yolandachatzina\\anaconda3\\lib\\site-packages (from pendulum>=2.1.2->dlt[duckdb]) (2.9.0.post0)\n",
            "Requirement already satisfied: time-machine>=2.6.0 in c:\\users\\yolandachatzina\\anaconda3\\lib\\site-packages (from pendulum>=2.1.2->dlt[duckdb]) (2.16.0)\n",
            "Requirement already satisfied: charset-normalizer<4,>=2 in c:\\users\\yolandachatzina\\anaconda3\\lib\\site-packages (from requests>=2.26.0->dlt[duckdb]) (3.3.2)\n",
            "Requirement already satisfied: idna<4,>=2.5 in c:\\users\\yolandachatzina\\anaconda3\\lib\\site-packages (from requests>=2.26.0->dlt[duckdb]) (3.7)\n",
            "Requirement already satisfied: urllib3<3,>=1.21.1 in c:\\users\\yolandachatzina\\anaconda3\\lib\\site-packages (from requests>=2.26.0->dlt[duckdb]) (2.2.3)\n",
            "Requirement already satisfied: certifi>=2017.4.17 in c:\\users\\yolandachatzina\\anaconda3\\lib\\site-packages (from requests>=2.26.0->dlt[duckdb]) (2024.12.14)\n",
            "Requirement already satisfied: types-setuptools>=69.1.0 in c:\\users\\yolandachatzina\\anaconda3\\lib\\site-packages (from requirements-parser>=0.5.0->dlt[duckdb]) (75.8.0.20250210)\n",
            "Requirement already satisfied: rich>=11.0.0 in c:\\users\\yolandachatzina\\anaconda3\\lib\\site-packages (from rich-argparse<2.0.0,>=1.6.0->dlt[duckdb]) (13.7.1)\n",
            "Requirement already satisfied: smmap<5,>=3.0.1 in c:\\users\\yolandachatzina\\anaconda3\\lib\\site-packages (from gitdb<5,>=4.0.1->gitpython>=3.1.29->dlt[duckdb]) (4.0.0)\n",
            "Requirement already satisfied: six>=1.5 in c:\\users\\yolandachatzina\\anaconda3\\lib\\site-packages (from python-dateutil>=2.6->pendulum>=2.1.2->dlt[duckdb]) (1.16.0)\n",
            "Requirement already satisfied: markdown-it-py>=2.2.0 in c:\\users\\yolandachatzina\\anaconda3\\lib\\site-packages (from rich>=11.0.0->rich-argparse<2.0.0,>=1.6.0->dlt[duckdb]) (2.2.0)\n",
            "Requirement already satisfied: pygments<3.0.0,>=2.13.0 in c:\\users\\yolandachatzina\\anaconda3\\lib\\site-packages (from rich>=11.0.0->rich-argparse<2.0.0,>=1.6.0->dlt[duckdb]) (2.15.1)\n",
            "Requirement already satisfied: mdurl~=0.1 in c:\\users\\yolandachatzina\\anaconda3\\lib\\site-packages (from markdown-it-py>=2.2.0->rich>=11.0.0->rich-argparse<2.0.0,>=1.6.0->dlt[duckdb]) (0.1.0)\n",
            "Note: you may need to restart the kernel to use updated packages.\n"
          ]
        }
      ],
      "source": [
        "%pip install dlt[duckdb]"
      ]
    },
    {
      "cell_type": "markdown",
      "metadata": {
        "id": "Xv9gkwKIV3wM"
      },
      "source": [
        "> Or choose a different bracket—`bigquery`, `redshift`, etc.—if you prefer another primary destination. For this assignment, we’ll still do a quick test with DuckDB.\n",
        "\n",
        "2. **Check** the version:\n"
      ]
    },
    {
      "cell_type": "code",
      "execution_count": 2,
      "metadata": {
        "colab": {
          "base_uri": "https://localhost:8080/"
        },
        "id": "scFCGjeMWCkI",
        "outputId": "574d7915-b30e-41de-ec93-d1828670a7dc"
      },
      "outputs": [
        {
          "name": "stdout",
          "output_type": "stream",
          "text": [
            "\u001b[39mdlt 1.6.1\u001b[0m\n"
          ]
        }
      ],
      "source": [
        "!dlt --version"
      ]
    },
    {
      "cell_type": "markdown",
      "metadata": {
        "id": "f0Z3F5s4WaXO"
      },
      "source": [
        "dlt version: 1.6.1"
      ]
    },
    {
      "cell_type": "markdown",
      "metadata": {
        "id": "M02IXn-GWdBO"
      },
      "source": [
        "## **Question 2: Define & Run the Pipeline (NYC Taxi API)**\n",
        "\n",
        "Use dlt to extract all pages of data from the API.\n",
        "\n",
        "Steps:\n",
        "\n",
        "1️⃣ Use the `@dlt.resource` decorator to define the API source.\n",
        "\n",
        "2️⃣ Implement automatic pagination using dlt's built-in REST client.\n",
        "\n",
        "3️⃣ Load the extracted data into DuckDB for querying.\n",
        "\n"
      ]
    },
    {
      "cell_type": "code",
      "execution_count": 3,
      "metadata": {
        "id": "8ChhfBNUWshT"
      },
      "outputs": [],
      "source": [
        "import dlt\n",
        "from dlt.sources.helpers.rest_client import RESTClient\n",
        "from dlt.sources.helpers.rest_client.paginators import PageNumberPaginator\n",
        "\n",
        "\n",
        "@dlt.resource(name=\"rides\")\n",
        "def ny_taxi():\n",
        "    client = RESTClient(\n",
        "        base_url=\"https://us-central1-dlthub-analytics.cloudfunctions.net\",\n",
        "        paginator=PageNumberPaginator(\n",
        "            base_page=1,\n",
        "            total_path=None\n",
        "        )\n",
        "    )\n",
        "\n",
        "    for page in client.paginate(\"data_engineering_zoomcamp_api\"):\n",
        "        yield page\n",
        "\n",
        "\n",
        "pipeline = dlt.pipeline(destination=\"duckdb\")\n",
        "\n",
        "\n",
        "pipeline = dlt.pipeline(\n",
        "    pipeline_name=\"ny_taxi_pipeline\",\n",
        "    destination=\"duckdb\",\n",
        "    dataset_name=\"ny_taxi_data\"\n",
        ")"
      ]
    },
    {
      "cell_type": "markdown",
      "metadata": {
        "id": "Y64a4o7qXGzH"
      },
      "source": [
        "Load the data into DuckDB to test:\n",
        "\n",
        "\n",
        "\n",
        "\n"
      ]
    },
    {
      "cell_type": "code",
      "execution_count": 4,
      "metadata": {
        "colab": {
          "base_uri": "https://localhost:8080/"
        },
        "id": "emXcAQN2XIYk",
        "outputId": "e48d8d77-63a6-4d1f-893e-11962fccec3d"
      },
      "outputs": [
        {
          "name": "stderr",
          "output_type": "stream",
          "text": [
            "2025-02-12 14:36:47,671|[WARNING]|27032|1716|dlt|configuration.py|_path_from_pipeline:178|Duckdb attached to pipeline ny_taxi_pipeline in path ny_taxi_pipeline.duckdb was could not be found but pipeline has already ran. This may be a result of (1) recreating or attaching pipeline  without or with changed explicit path to database that was used when creating the pipeline. (2) keeping the path to to database in secrets and changing the current working folder so  dlt cannot see them. (3) you deleting the database.\n"
          ]
        },
        {
          "name": "stdout",
          "output_type": "stream",
          "text": [
            "Pipeline ny_taxi_pipeline load step completed in 1.22 seconds\n",
            "1 load package(s) were loaded to destination duckdb and into dataset ny_taxi_data\n",
            "The duckdb destination used duckdb:///c:\\Users\\YolandaChatzina\\Documents\\DTC DE Course\\workshops\\dlt\\ny_taxi_pipeline.duckdb location to store data\n",
            "Load package 1739363807.7836964 is LOADED and contains no failed jobs\n"
          ]
        }
      ],
      "source": [
        "load_info = pipeline.run(ny_taxi)\n",
        "print(load_info)"
      ]
    },
    {
      "cell_type": "markdown",
      "metadata": {
        "id": "VfFtRuJLeTJZ"
      },
      "source": [
        "Start a connection to your database using native `duckdb` connection and look what tables were generated:"
      ]
    },
    {
      "cell_type": "code",
      "execution_count": 5,
      "metadata": {
        "colab": {
          "base_uri": "https://localhost:8080/",
          "height": 522
        },
        "id": "bmOjtD-Xeq3K",
        "outputId": "9e2001bc-bbe4-4126-81d5-ffadf5417d96"
      },
      "outputs": [
        {
          "data": {
            "text/html": [
              "<div>\n",
              "<style scoped>\n",
              "    .dataframe tbody tr th:only-of-type {\n",
              "        vertical-align: middle;\n",
              "    }\n",
              "\n",
              "    .dataframe tbody tr th {\n",
              "        vertical-align: top;\n",
              "    }\n",
              "\n",
              "    .dataframe thead th {\n",
              "        text-align: right;\n",
              "    }\n",
              "</style>\n",
              "<table border=\"1\" class=\"dataframe\">\n",
              "  <thead>\n",
              "    <tr style=\"text-align: right;\">\n",
              "      <th></th>\n",
              "      <th>database</th>\n",
              "      <th>schema</th>\n",
              "      <th>name</th>\n",
              "      <th>column_names</th>\n",
              "      <th>column_types</th>\n",
              "      <th>temporary</th>\n",
              "    </tr>\n",
              "  </thead>\n",
              "  <tbody>\n",
              "    <tr>\n",
              "      <th>0</th>\n",
              "      <td>ny_taxi_pipeline</td>\n",
              "      <td>ny_taxi_data</td>\n",
              "      <td>_dlt_loads</td>\n",
              "      <td>[load_id, schema_name, status, inserted_at, sc...</td>\n",
              "      <td>[VARCHAR, VARCHAR, BIGINT, TIMESTAMP WITH TIME...</td>\n",
              "      <td>False</td>\n",
              "    </tr>\n",
              "    <tr>\n",
              "      <th>1</th>\n",
              "      <td>ny_taxi_pipeline</td>\n",
              "      <td>ny_taxi_data</td>\n",
              "      <td>_dlt_pipeline_state</td>\n",
              "      <td>[version, engine_version, pipeline_name, state...</td>\n",
              "      <td>[BIGINT, BIGINT, VARCHAR, VARCHAR, TIMESTAMP W...</td>\n",
              "      <td>False</td>\n",
              "    </tr>\n",
              "    <tr>\n",
              "      <th>2</th>\n",
              "      <td>ny_taxi_pipeline</td>\n",
              "      <td>ny_taxi_data</td>\n",
              "      <td>_dlt_version</td>\n",
              "      <td>[version, engine_version, inserted_at, schema_...</td>\n",
              "      <td>[BIGINT, BIGINT, TIMESTAMP WITH TIME ZONE, VAR...</td>\n",
              "      <td>False</td>\n",
              "    </tr>\n",
              "    <tr>\n",
              "      <th>3</th>\n",
              "      <td>ny_taxi_pipeline</td>\n",
              "      <td>ny_taxi_data</td>\n",
              "      <td>rides</td>\n",
              "      <td>[end_lat, end_lon, fare_amt, passenger_count, ...</td>\n",
              "      <td>[DOUBLE, DOUBLE, DOUBLE, BIGINT, VARCHAR, DOUB...</td>\n",
              "      <td>False</td>\n",
              "    </tr>\n",
              "  </tbody>\n",
              "</table>\n",
              "</div>"
            ],
            "text/plain": [
              "           database        schema                 name  \\\n",
              "0  ny_taxi_pipeline  ny_taxi_data           _dlt_loads   \n",
              "1  ny_taxi_pipeline  ny_taxi_data  _dlt_pipeline_state   \n",
              "2  ny_taxi_pipeline  ny_taxi_data         _dlt_version   \n",
              "3  ny_taxi_pipeline  ny_taxi_data                rides   \n",
              "\n",
              "                                        column_names  \\\n",
              "0  [load_id, schema_name, status, inserted_at, sc...   \n",
              "1  [version, engine_version, pipeline_name, state...   \n",
              "2  [version, engine_version, inserted_at, schema_...   \n",
              "3  [end_lat, end_lon, fare_amt, passenger_count, ...   \n",
              "\n",
              "                                        column_types  temporary  \n",
              "0  [VARCHAR, VARCHAR, BIGINT, TIMESTAMP WITH TIME...      False  \n",
              "1  [BIGINT, BIGINT, VARCHAR, VARCHAR, TIMESTAMP W...      False  \n",
              "2  [BIGINT, BIGINT, TIMESTAMP WITH TIME ZONE, VAR...      False  \n",
              "3  [DOUBLE, DOUBLE, DOUBLE, BIGINT, VARCHAR, DOUB...      False  "
            ]
          },
          "execution_count": 5,
          "metadata": {},
          "output_type": "execute_result"
        }
      ],
      "source": [
        "import duckdb\n",
        "\n",
        "conn = duckdb.connect(f\"{pipeline.pipeline_name}.duckdb\")\n",
        "\n",
        "conn.sql(f\"SET search_path = '{pipeline.dataset_name}'\")\n",
        "\n",
        "conn.sql(\"DESCRIBE\").df()"
      ]
    },
    {
      "cell_type": "markdown",
      "metadata": {
        "id": "lmfI_zjoeIrf"
      },
      "source": [
        "4 tables were created: _dlt_loads, _dlt_pipeline_state, _dlt_version, rides"
      ]
    },
    {
      "cell_type": "markdown",
      "metadata": {
        "id": "LLuS9O63f-fv"
      },
      "source": [
        "## **Question 3: Explore the loaded data**"
      ]
    },
    {
      "cell_type": "markdown",
      "metadata": {
        "id": "d_cWQaQjXLn8"
      },
      "source": [
        "Inspect the table `rides`:\n"
      ]
    },
    {
      "cell_type": "code",
      "execution_count": 6,
      "metadata": {
        "colab": {
          "base_uri": "https://localhost:8080/",
          "height": 529
        },
        "id": "lvpYmnhkXKLZ",
        "outputId": "ba2f4b31-420a-4244-9b36-e091242b015a"
      },
      "outputs": [
        {
          "data": {
            "text/html": [
              "<div>\n",
              "<style scoped>\n",
              "    .dataframe tbody tr th:only-of-type {\n",
              "        vertical-align: middle;\n",
              "    }\n",
              "\n",
              "    .dataframe tbody tr th {\n",
              "        vertical-align: top;\n",
              "    }\n",
              "\n",
              "    .dataframe thead th {\n",
              "        text-align: right;\n",
              "    }\n",
              "</style>\n",
              "<table border=\"1\" class=\"dataframe\">\n",
              "  <thead>\n",
              "    <tr style=\"text-align: right;\">\n",
              "      <th></th>\n",
              "      <th>end_lat</th>\n",
              "      <th>end_lon</th>\n",
              "      <th>fare_amt</th>\n",
              "      <th>passenger_count</th>\n",
              "      <th>payment_type</th>\n",
              "      <th>start_lat</th>\n",
              "      <th>start_lon</th>\n",
              "      <th>tip_amt</th>\n",
              "      <th>tolls_amt</th>\n",
              "      <th>total_amt</th>\n",
              "      <th>trip_distance</th>\n",
              "      <th>trip_dropoff_date_time</th>\n",
              "      <th>trip_pickup_date_time</th>\n",
              "      <th>surcharge</th>\n",
              "      <th>vendor_name</th>\n",
              "      <th>_dlt_load_id</th>\n",
              "      <th>_dlt_id</th>\n",
              "      <th>store_and_forward</th>\n",
              "    </tr>\n",
              "  </thead>\n",
              "  <tbody>\n",
              "    <tr>\n",
              "      <th>0</th>\n",
              "      <td>40.742963</td>\n",
              "      <td>-73.980072</td>\n",
              "      <td>45.0</td>\n",
              "      <td>1</td>\n",
              "      <td>Credit</td>\n",
              "      <td>40.641525</td>\n",
              "      <td>-73.787442</td>\n",
              "      <td>9.0</td>\n",
              "      <td>4.15</td>\n",
              "      <td>58.15</td>\n",
              "      <td>17.52</td>\n",
              "      <td>2009-06-14 23:48:00+00:00</td>\n",
              "      <td>2009-06-14 23:23:00+00:00</td>\n",
              "      <td>0.0</td>\n",
              "      <td>VTS</td>\n",
              "      <td>1739363807.7836964</td>\n",
              "      <td>Tp+Dtb3abhlUnA</td>\n",
              "      <td>NaN</td>\n",
              "    </tr>\n",
              "    <tr>\n",
              "      <th>1</th>\n",
              "      <td>40.740187</td>\n",
              "      <td>-74.005698</td>\n",
              "      <td>6.5</td>\n",
              "      <td>1</td>\n",
              "      <td>Credit</td>\n",
              "      <td>40.722065</td>\n",
              "      <td>-74.009767</td>\n",
              "      <td>1.0</td>\n",
              "      <td>0.00</td>\n",
              "      <td>8.50</td>\n",
              "      <td>1.56</td>\n",
              "      <td>2009-06-18 17:43:00+00:00</td>\n",
              "      <td>2009-06-18 17:35:00+00:00</td>\n",
              "      <td>1.0</td>\n",
              "      <td>VTS</td>\n",
              "      <td>1739363807.7836964</td>\n",
              "      <td>p/AaKtCOxFSjiw</td>\n",
              "      <td>NaN</td>\n",
              "    </tr>\n",
              "    <tr>\n",
              "      <th>2</th>\n",
              "      <td>40.718043</td>\n",
              "      <td>-74.004745</td>\n",
              "      <td>12.5</td>\n",
              "      <td>5</td>\n",
              "      <td>Credit</td>\n",
              "      <td>40.761945</td>\n",
              "      <td>-73.983038</td>\n",
              "      <td>2.0</td>\n",
              "      <td>0.00</td>\n",
              "      <td>15.50</td>\n",
              "      <td>3.37</td>\n",
              "      <td>2009-06-10 18:27:00+00:00</td>\n",
              "      <td>2009-06-10 18:08:00+00:00</td>\n",
              "      <td>1.0</td>\n",
              "      <td>VTS</td>\n",
              "      <td>1739363807.7836964</td>\n",
              "      <td>q2mH4WKoeW/TSw</td>\n",
              "      <td>NaN</td>\n",
              "    </tr>\n",
              "    <tr>\n",
              "      <th>3</th>\n",
              "      <td>40.739637</td>\n",
              "      <td>-73.985233</td>\n",
              "      <td>4.9</td>\n",
              "      <td>1</td>\n",
              "      <td>CASH</td>\n",
              "      <td>40.749802</td>\n",
              "      <td>-73.992247</td>\n",
              "      <td>0.0</td>\n",
              "      <td>0.00</td>\n",
              "      <td>5.40</td>\n",
              "      <td>1.11</td>\n",
              "      <td>2009-06-14 23:58:00+00:00</td>\n",
              "      <td>2009-06-14 23:54:00+00:00</td>\n",
              "      <td>0.5</td>\n",
              "      <td>VTS</td>\n",
              "      <td>1739363807.7836964</td>\n",
              "      <td>4G3leNXP4Wc9HA</td>\n",
              "      <td>NaN</td>\n",
              "    </tr>\n",
              "    <tr>\n",
              "      <th>4</th>\n",
              "      <td>40.730032</td>\n",
              "      <td>-73.852693</td>\n",
              "      <td>25.7</td>\n",
              "      <td>1</td>\n",
              "      <td>CASH</td>\n",
              "      <td>40.776825</td>\n",
              "      <td>-73.949233</td>\n",
              "      <td>0.0</td>\n",
              "      <td>4.15</td>\n",
              "      <td>29.85</td>\n",
              "      <td>11.09</td>\n",
              "      <td>2009-06-13 13:23:00+00:00</td>\n",
              "      <td>2009-06-13 13:01:00+00:00</td>\n",
              "      <td>0.0</td>\n",
              "      <td>VTS</td>\n",
              "      <td>1739363807.7836964</td>\n",
              "      <td>4LnQKHTN76XOWQ</td>\n",
              "      <td>NaN</td>\n",
              "    </tr>\n",
              "    <tr>\n",
              "      <th>...</th>\n",
              "      <td>...</td>\n",
              "      <td>...</td>\n",
              "      <td>...</td>\n",
              "      <td>...</td>\n",
              "      <td>...</td>\n",
              "      <td>...</td>\n",
              "      <td>...</td>\n",
              "      <td>...</td>\n",
              "      <td>...</td>\n",
              "      <td>...</td>\n",
              "      <td>...</td>\n",
              "      <td>...</td>\n",
              "      <td>...</td>\n",
              "      <td>...</td>\n",
              "      <td>...</td>\n",
              "      <td>...</td>\n",
              "      <td>...</td>\n",
              "      <td>...</td>\n",
              "    </tr>\n",
              "    <tr>\n",
              "      <th>9995</th>\n",
              "      <td>40.783522</td>\n",
              "      <td>-73.970690</td>\n",
              "      <td>5.7</td>\n",
              "      <td>1</td>\n",
              "      <td>CASH</td>\n",
              "      <td>40.778560</td>\n",
              "      <td>-73.953660</td>\n",
              "      <td>0.0</td>\n",
              "      <td>0.00</td>\n",
              "      <td>5.70</td>\n",
              "      <td>1.16</td>\n",
              "      <td>2009-06-19 11:28:00+00:00</td>\n",
              "      <td>2009-06-19 11:22:00+00:00</td>\n",
              "      <td>0.0</td>\n",
              "      <td>VTS</td>\n",
              "      <td>1739363807.7836964</td>\n",
              "      <td>Yl0zdImjm1bOdg</td>\n",
              "      <td>NaN</td>\n",
              "    </tr>\n",
              "    <tr>\n",
              "      <th>9996</th>\n",
              "      <td>40.777200</td>\n",
              "      <td>-73.964197</td>\n",
              "      <td>4.1</td>\n",
              "      <td>1</td>\n",
              "      <td>CASH</td>\n",
              "      <td>40.779800</td>\n",
              "      <td>-73.974297</td>\n",
              "      <td>0.0</td>\n",
              "      <td>0.00</td>\n",
              "      <td>4.10</td>\n",
              "      <td>0.89</td>\n",
              "      <td>2009-06-17 07:43:00+00:00</td>\n",
              "      <td>2009-06-17 07:41:00+00:00</td>\n",
              "      <td>0.0</td>\n",
              "      <td>VTS</td>\n",
              "      <td>1739363807.7836964</td>\n",
              "      <td>/PAp9kVbNa74+Q</td>\n",
              "      <td>NaN</td>\n",
              "    </tr>\n",
              "    <tr>\n",
              "      <th>9997</th>\n",
              "      <td>40.780172</td>\n",
              "      <td>-73.957617</td>\n",
              "      <td>6.1</td>\n",
              "      <td>1</td>\n",
              "      <td>CASH</td>\n",
              "      <td>40.788388</td>\n",
              "      <td>-73.976758</td>\n",
              "      <td>0.0</td>\n",
              "      <td>0.00</td>\n",
              "      <td>6.10</td>\n",
              "      <td>1.30</td>\n",
              "      <td>2009-06-19 11:46:00+00:00</td>\n",
              "      <td>2009-06-19 11:39:00+00:00</td>\n",
              "      <td>0.0</td>\n",
              "      <td>VTS</td>\n",
              "      <td>1739363807.7836964</td>\n",
              "      <td>HN7cWwh8kIhd1w</td>\n",
              "      <td>NaN</td>\n",
              "    </tr>\n",
              "    <tr>\n",
              "      <th>9998</th>\n",
              "      <td>40.777342</td>\n",
              "      <td>-73.957242</td>\n",
              "      <td>5.7</td>\n",
              "      <td>1</td>\n",
              "      <td>CASH</td>\n",
              "      <td>40.773828</td>\n",
              "      <td>-73.956690</td>\n",
              "      <td>0.0</td>\n",
              "      <td>0.00</td>\n",
              "      <td>6.20</td>\n",
              "      <td>0.97</td>\n",
              "      <td>2009-06-17 04:19:00+00:00</td>\n",
              "      <td>2009-06-17 04:13:00+00:00</td>\n",
              "      <td>0.5</td>\n",
              "      <td>VTS</td>\n",
              "      <td>1739363807.7836964</td>\n",
              "      <td>Anl5N18LF6sRRQ</td>\n",
              "      <td>NaN</td>\n",
              "    </tr>\n",
              "    <tr>\n",
              "      <th>9999</th>\n",
              "      <td>40.757122</td>\n",
              "      <td>-73.986293</td>\n",
              "      <td>6.5</td>\n",
              "      <td>1</td>\n",
              "      <td>Credit</td>\n",
              "      <td>40.756313</td>\n",
              "      <td>-73.972948</td>\n",
              "      <td>2.0</td>\n",
              "      <td>0.00</td>\n",
              "      <td>8.50</td>\n",
              "      <td>0.92</td>\n",
              "      <td>2009-06-17 08:34:00+00:00</td>\n",
              "      <td>2009-06-17 08:24:00+00:00</td>\n",
              "      <td>0.0</td>\n",
              "      <td>VTS</td>\n",
              "      <td>1739363807.7836964</td>\n",
              "      <td>EDZPIWu+EfTGvA</td>\n",
              "      <td>NaN</td>\n",
              "    </tr>\n",
              "  </tbody>\n",
              "</table>\n",
              "<p>10000 rows × 18 columns</p>\n",
              "</div>"
            ],
            "text/plain": [
              "        end_lat    end_lon  fare_amt  passenger_count payment_type  start_lat  \\\n",
              "0     40.742963 -73.980072      45.0                1       Credit  40.641525   \n",
              "1     40.740187 -74.005698       6.5                1       Credit  40.722065   \n",
              "2     40.718043 -74.004745      12.5                5       Credit  40.761945   \n",
              "3     40.739637 -73.985233       4.9                1         CASH  40.749802   \n",
              "4     40.730032 -73.852693      25.7                1         CASH  40.776825   \n",
              "...         ...        ...       ...              ...          ...        ...   \n",
              "9995  40.783522 -73.970690       5.7                1         CASH  40.778560   \n",
              "9996  40.777200 -73.964197       4.1                1         CASH  40.779800   \n",
              "9997  40.780172 -73.957617       6.1                1         CASH  40.788388   \n",
              "9998  40.777342 -73.957242       5.7                1         CASH  40.773828   \n",
              "9999  40.757122 -73.986293       6.5                1       Credit  40.756313   \n",
              "\n",
              "      start_lon  tip_amt  tolls_amt  total_amt  trip_distance  \\\n",
              "0    -73.787442      9.0       4.15      58.15          17.52   \n",
              "1    -74.009767      1.0       0.00       8.50           1.56   \n",
              "2    -73.983038      2.0       0.00      15.50           3.37   \n",
              "3    -73.992247      0.0       0.00       5.40           1.11   \n",
              "4    -73.949233      0.0       4.15      29.85          11.09   \n",
              "...         ...      ...        ...        ...            ...   \n",
              "9995 -73.953660      0.0       0.00       5.70           1.16   \n",
              "9996 -73.974297      0.0       0.00       4.10           0.89   \n",
              "9997 -73.976758      0.0       0.00       6.10           1.30   \n",
              "9998 -73.956690      0.0       0.00       6.20           0.97   \n",
              "9999 -73.972948      2.0       0.00       8.50           0.92   \n",
              "\n",
              "        trip_dropoff_date_time     trip_pickup_date_time  surcharge  \\\n",
              "0    2009-06-14 23:48:00+00:00 2009-06-14 23:23:00+00:00        0.0   \n",
              "1    2009-06-18 17:43:00+00:00 2009-06-18 17:35:00+00:00        1.0   \n",
              "2    2009-06-10 18:27:00+00:00 2009-06-10 18:08:00+00:00        1.0   \n",
              "3    2009-06-14 23:58:00+00:00 2009-06-14 23:54:00+00:00        0.5   \n",
              "4    2009-06-13 13:23:00+00:00 2009-06-13 13:01:00+00:00        0.0   \n",
              "...                        ...                       ...        ...   \n",
              "9995 2009-06-19 11:28:00+00:00 2009-06-19 11:22:00+00:00        0.0   \n",
              "9996 2009-06-17 07:43:00+00:00 2009-06-17 07:41:00+00:00        0.0   \n",
              "9997 2009-06-19 11:46:00+00:00 2009-06-19 11:39:00+00:00        0.0   \n",
              "9998 2009-06-17 04:19:00+00:00 2009-06-17 04:13:00+00:00        0.5   \n",
              "9999 2009-06-17 08:34:00+00:00 2009-06-17 08:24:00+00:00        0.0   \n",
              "\n",
              "     vendor_name        _dlt_load_id         _dlt_id  store_and_forward  \n",
              "0            VTS  1739363807.7836964  Tp+Dtb3abhlUnA                NaN  \n",
              "1            VTS  1739363807.7836964  p/AaKtCOxFSjiw                NaN  \n",
              "2            VTS  1739363807.7836964  q2mH4WKoeW/TSw                NaN  \n",
              "3            VTS  1739363807.7836964  4G3leNXP4Wc9HA                NaN  \n",
              "4            VTS  1739363807.7836964  4LnQKHTN76XOWQ                NaN  \n",
              "...          ...                 ...             ...                ...  \n",
              "9995         VTS  1739363807.7836964  Yl0zdImjm1bOdg                NaN  \n",
              "9996         VTS  1739363807.7836964  /PAp9kVbNa74+Q                NaN  \n",
              "9997         VTS  1739363807.7836964  HN7cWwh8kIhd1w                NaN  \n",
              "9998         VTS  1739363807.7836964  Anl5N18LF6sRRQ                NaN  \n",
              "9999         VTS  1739363807.7836964  EDZPIWu+EfTGvA                NaN  \n",
              "\n",
              "[10000 rows x 18 columns]"
            ]
          },
          "execution_count": 6,
          "metadata": {},
          "output_type": "execute_result"
        }
      ],
      "source": [
        "df = pipeline.dataset(dataset_type=\"default\").rides.df()\n",
        "df"
      ]
    },
    {
      "cell_type": "markdown",
      "metadata": {
        "id": "OZEvd9TcgEst"
      },
      "source": [
        "10000 records were extracted"
      ]
    },
    {
      "cell_type": "markdown",
      "metadata": {
        "id": "joyAEvNae6Ds"
      },
      "source": [
        "## **Question 4: Trip Duration Analysis**\n",
        "\n",
        "Run the SQL query below to:\n",
        "\n",
        "* Calculate the average trip duration in minutes."
      ]
    },
    {
      "cell_type": "code",
      "execution_count": 7,
      "metadata": {
        "colab": {
          "base_uri": "https://localhost:8080/"
        },
        "id": "BtsSxtFfXQs3",
        "outputId": "10bd539e-3363-4723-aa99-3343ab37e390"
      },
      "outputs": [
        {
          "name": "stdout",
          "output_type": "stream",
          "text": [
            "[(12.3049,)]\n"
          ]
        }
      ],
      "source": [
        "with pipeline.sql_client() as client:\n",
        "    res = client.execute_sql(\n",
        "            \"\"\"\n",
        "            SELECT\n",
        "            AVG(date_diff('minute', trip_pickup_date_time, trip_dropoff_date_time))\n",
        "            FROM rides;\n",
        "            \"\"\"\n",
        "        )\n",
        "    print(res)"
      ]
    },
    {
      "cell_type": "markdown",
      "metadata": {
        "id": "YTIydWT0dTf9"
      },
      "source": [
        "The average trip duration is 12.3409 minutes."
      ]
    }
  ],
  "metadata": {
    "colab": {
      "provenance": [],
      "toc_visible": true
    },
    "kernelspec": {
      "display_name": "base",
      "language": "python",
      "name": "python3"
    },
    "language_info": {
      "codemirror_mode": {
        "name": "ipython",
        "version": 3
      },
      "file_extension": ".py",
      "mimetype": "text/x-python",
      "name": "python",
      "nbconvert_exporter": "python",
      "pygments_lexer": "ipython3",
      "version": "3.12.3"
    }
  },
  "nbformat": 4,
  "nbformat_minor": 0
}
